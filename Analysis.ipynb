{
 "cells": [
  {
   "cell_type": "markdown",
   "source": [
    "## Parameters\n"
   ],
   "metadata": {
    "collapsed": false,
    "pycharm": {
     "name": "#%% md\n"
    }
   }
  },
  {
   "cell_type": "code",
   "execution_count": 1,
   "outputs": [],
   "source": [
    "import AnalysisFileTree as af\n",
    "import pandas as pd\n",
    "import os\n",
    "\n",
    "directory_path = 'Z:\\\\utilitarios'\n",
    "output_file_path = 'data.csv'"
   ],
   "metadata": {
    "collapsed": false,
    "pycharm": {
     "name": "#%%\n",
     "is_executing": false
    }
   }
  },
  {
   "cell_type": "markdown",
   "source": [
    "## Create data with system file"
   ],
   "metadata": {
    "collapsed": false
   }
  },
  {
   "cell_type": "code",
   "execution_count": null,
   "outputs": [
    {
     "name": "stdout",
     "text": [
      "FOLDER : Z:\\utilitarios\\z_ymp\\LegalPorno - Kristy Black licks cum off her feet after double anal fucking\n",
      "FILE : LegalPorno - Kristy Black licks cum off her feet after double anal fucking - 1137.459MB - 178.07352685928345 seconds\n",
      "FILE : Eva Lovia - 314.644MB - 49.963818073272705 seconds\n",
      "FILE : handsonhardcore.18.12.08.selvaggia - 279.145MB - 48.10063600540161 seconds\n",
      "FOLDER : Z:\\utilitarios\\z_ymp\\AnalTeenAngels.18.05.08.Evelina.Darling.Stretch.My.Tight.Hole.XXX.1080p.MP4-KTR[rarbg]\n",
      "FILE : analteenangels.18.05.08.evelina.darling.stretch.my.tight.hole - 1143.412MB - 182.71663570404053 seconds\n",
      "FOLDER : Z:\\utilitarios\\z_ymp\\LegalPorno - My first DP, Lexi Fox First time double penetration, with balls deep anal, ATM, Creampie\n",
      "FILE : LegalPorno - My first DP, Lexi Fox First time double penetration, with balls deep anal, ATM, Creampie - 876.157MB - 150.98110961914062 seconds\n",
      "FOLDER : Z:\\utilitarios\\z_ymp\\BigWetButts.18.12.25.Brett.Rossi.Stocking.Stuff-Her.XXX.1080p.MP4-KTR[rarbg]\n",
      "FILE : bwb.18.12.25.brett.rossi.stocking.stuff-her - 1447.229MB - 336.93611669540405 seconds\n",
      "FOLDER : Z:\\utilitarios\\z_ymp\\BigWetButts - Yurizan Beltran (Poolside Bang Bang) 10.08.16\n",
      "FILE : BigWetButts - Yurizan Beltran (Poolside Bang Bang) 10.08.16 - 300.763MB - 48.84699249267578 seconds\n",
      "FOLDER : Z:\\utilitarios\\z_ymp\\NuruMassage - Kenzie Taylor (The L Ass) XXX NEW Released 20-05-2016\n",
      "FILE : NuruMassage - Kenzie Taylor (The L Ass) XXX NEW Released 20-05-2016 - 401.726MB - 64.64535117149353 seconds\n",
      "FILE : [HookupHotshot] Arya Faye - Anal Friend Request (08.10.2017) rq - 362.308MB - 61.07175636291504 seconds\n",
      "FOLDER : Z:\\utilitarios\\z_ymp\\DateSlam.18.06.08.Stasia.Anal.Sex.Date.With.Blonde.Russian.Slut.XXX.SD.MP4-KLEENEX\n",
      "FILE : DateSlam.18.06.08.Stasia.Anal.Sex.Date.With.Blonde.Russian.Slut.XXX.SD.MP4-KLEENEX - 651.316MB - 102.3989417552948 seconds\n",
      "FILE : [FirstAnalQuest] Olivia Kiss (389 - 02.04.16) rq (450p) - 532.049MB - 82.43078446388245 seconds\n",
      "FOLDER : Z:\\utilitarios\\z_ymp\\TeenDreams - Aiko Mai\n",
      "FILE : TeenDreams - Aiko Mai - 94.279MB - 14.832715034484863 seconds\n",
      "FILE : Megan Rain - Step-Sister Cam Girl Busted (480p) - 459.103MB - 78.70947217941284 seconds\n",
      "FOLDER : Z:\\utilitarios\\z_ymp\\HardX.Anikka.Albrite.Massive.Anal.Ass\n",
      "FILE : HardX.Anikka.Albrite.Massive.Anal.Ass.XXX.NEW.29.July.2016 - 293.127MB - 45.76222848892212 seconds\n",
      "FOLDER : Z:\\utilitarios\\z_ymp\\RealSlutParty.Stephani.Moretti.Mishka.Maryjane.Johnson.Vacation.Fornication.mp4\n",
      "FILE : RealSlutParty.Stephani.Moretti.Mishka.Maryjane.Johnson.Vacation.Fornication - 611.188MB - 95.67052555084229 seconds\n",
      "FOLDER : Z:\\utilitarios\\z_ymp\\BangPOV.Dani.Daniels.Dani.Daniels.Is.Perfection\n",
      "FILE : BangPOV.Dani.Daniels.Dani.Daniels.Is.Perfection.28.November.2015 - 156.808MB - 24.23177170753479 seconds\n",
      "FOLDER : Z:\\utilitarios\\z_ymp\\From.Teen.Ass.To.Teen.Mouth.9.XXX.720p.WEBRip.MP4-VSEX\n",
      "FILE : from-teen-ass-to-teen-mouth-9-720p - 3280.170MB - 517.1546151638031 seconds\n",
      "FILE : 47930_01_hd - 332.562MB - 54.299922466278076 seconds\n",
      "FILE : [HookupHotshot] Sex Tape Kristen Scott (18.11.2017) rq - 449.312MB - 75.32118964195251 seconds\n",
      "FOLDER : Z:\\utilitarios\\z_ymp\\BreakingAsses - Anya Krey\n",
      "FILE : BreakingAsses - Anya Krey - 284.370MB - 50.88511300086975 seconds\n",
      "FOLDER : Z:\\utilitarios\\z_ymp\\Analized.18.03.05.Rebel.Lynn.BDSM.Fantasy.Lived.Out.XXX.SD.MP4-KLEENEX\n",
      "FILE : Analized.18.03.05.Rebel.Lynn.BDSM.Fantasy.Lived.Out.XXX.SD.MP4-KLEENEX - 324.962MB - 58.56092691421509 seconds\n",
      "FILE : Kelsi Monroe - Twerking Hotties Anal Pounding_480p - 474.237MB - 84.55155801773071 seconds\n",
      "FOLDER : Z:\\utilitarios\\z_ymp\\Ass.Candy.2015.XXX.DVDRip.x264-KuKaS\n",
      "FILE : kks-asca - 1872.508MB - 306.7824966907501 seconds\n",
      "FILE : Anissa Kate - 259.984MB - 42.60490608215332 seconds\n",
      "FOLDER : Z:\\utilitarios\\z_ymp\\HandsOnHardcore.Tina.Kay.Deep.Tissue.Penetration.Babe.Gets.Ass.Fucked.During.Massage.mp4s\n",
      "FILE : HandsOnHardcore.Tina.Kay.Deep.Tissue.Penetration.Babe.Gets.Ass.Fucked.During.Massage.22.08.16.rq - 346.160MB - 57.28385305404663 seconds\n",
      "FOLDER : Z:\\utilitarios\\z_ymp\\DorcelClub.17.01.10.Jessie.Volt.The.Photoshoot.XXX.1080p.MP4-KTR[rarbg]\n",
      "FILE : dorcelclub.17.01.10.jessie.volt.the.photoshoot - 531.523MB - 85.3204517364502 seconds\n",
      "FILE : gapeland.18.12.12.victoria.pure.the.perfect.booty - 1251.807MB - 213.36293172836304 seconds\n",
      "FOLDER : Z:\\utilitarios\\z_ymp\\Tushy.18.09.28.Zoe.Bloom..480p.MP4-XXX\n",
      "FILE : tushy.18.09.28.zoe.bloom - 324.782MB - 57.954439878463745 seconds\n",
      "FOLDER : Z:\\utilitarios\\z_ymp\\MySexyKittens.15.05.29.Learning.About.The.Human.Anatomy.XXX.720p.WMV-oRo[rarbg]\n",
      "FILE : oro-msk.15.05.29.latha - 1236.326MB - 224.7116618156433 seconds\n",
      "FILE : julesjordan.18.11.24.kenzie.taylor - 229.645MB - 41.488760471343994 seconds\n",
      "FOLDER : Z:\\utilitarios\\z_ymp\\Analized - Vivienne Wynter - Anal Cherry\n",
      "FILE : Analized - Vivienne Wynter - Anal Cherry - 333.653MB - 60.00956845283508 seconds\n",
      "FOLDER : Z:\\utilitarios\\z_ymp\\GroupSexGames.16.09.23.Sindee.Jennings.Chrissy.Moon.And.Osa.Lovely.Games.With.Balls.XXX.SD.MP4-RARBG\n",
      "FILE : GroupSexGames.16.09.23.Sindee.Jennings.Chrissy.Moon.And.Osa.Lovely.Games.With.Balls.XXX.SD.MP4-RARBG - 1413.617MB - 252.52172255516052 seconds\n",
      "FOLDER : Z:\\utilitarios\\z_ymp\\HandsOnHardcore.Isabella.Lui.Caught.In.The.Act.Maid.Gets.Fucked.By.Thief.During.Burglary\n",
      "FILE : HandsOnHardcore.Isabella.Lui.XXX.NEW.Released.22.December.2015 - 258.341MB - 45.766459465026855 seconds\n",
      "FOLDER : Z:\\utilitarios\\z_ymp\\TeenDreams.17.07.12.Yuki.XXX.SD.MP4-KLEENEX\n",
      "FILE : TeenDreams.17.07.12.Yuki.XXX.SD.MP4-KLEENEX - 222.947MB - 45.1592583656311 seconds\n",
      "FOLDER : Z:\\utilitarios\\z_ymp\\Private.18.10.12.Gina.Gerson.Enjoys.Anal.With.Husband..480p.MP4-XXX\n",
      "FILE : private.18.10.12.gina.gerson.enjoys.anal.with.husband - 249.949MB - 44.82862091064453 seconds\n",
      "FILE : BigWetButts - Exercise Balling - Lana Rhoades [720p] - 564.691MB - 99.43538427352905 seconds\n",
      "FILE : LegalPorno - Kristy Black, Selvaggia. Dominica Phoenix [720p] - 2278.103MB - 408.81231141090393 seconds\n",
      "FILE : TeacherFucksTeens - Eva Long - Teachers Pet - 311.579MB - 56.46942663192749 seconds\n",
      "FOLDER : Z:\\utilitarios\\z_ymp\\BrazzersExxtra - Lana Rhoades - When Lana's Home Alone\n",
      "FILE : BrazzersExxtra - Lana Rhoades - When Lana's Home Alone - 405.189MB - 72.57143807411194 seconds\n",
      "FOLDER : Z:\\utilitarios\\z_ymp\\BitchesAbroad - Nikky Dream 10.28.16\n",
      "FILE : BitchesAbroad - Nikky Dream 10.28.16 - 454.118MB - 80.94370579719543 seconds\n",
      "FOLDER : Z:\\utilitarios\\z_ymp\\TeenDreams.17.10.17.Zuzanna.XXX.SD.MP4-KLEENEX\n",
      "FILE : TeenDreams.17.10.17.Zuzanna.XXX.SD.MP4-KLEENEX - 203.038MB - 35.47240424156189 seconds\n",
      "FOLDER : Z:\\utilitarios\\z_ymp\\Big.Wet.Butts.Jessie.Rogers.Jada.Stevens.Double.Anal.Poolside\n",
      "FILE : bwb.jada.jessie.480p.2000 - 549.027MB - 101.32011842727661 seconds\n",
      "FOLDER : Z:\\utilitarios\\z_ymp\\Bang - Eden Sin Is Passionate About Taking Jizz Loads\n",
      "FILE : Bang - Eden Sin Is Passionate About Taking Jizz Loads - 540.353MB"
     ],
     "output_type": "stream"
    }
   ],
   "source": [
    "def contain_file(file):\n",
    "    for file_tmp in os.listdir('./'):\n",
    "        if file_tmp == file:\n",
    "            return True\n",
    "    return False    \n",
    "\n",
    "def directory_stats(file_path):\n",
    "    if contain_file('_{0}_{1}'.format(file_path,output_file_path)):\n",
    "        return\n",
    "    full_path = os.path.join(directory_path,file_path) \n",
    "    fileTree = af.AnalysisFileTree(full_path, verbose=True,hash_name='sha1')\n",
    "    datafile = fileTree.stats()\n",
    "    if output_file_path.endswith('.csv'):\n",
    "        datafile.to_csv('./_{0}_{1}'.format(file_path,output_file_path), index=False)\n",
    "    elif output_file_path.endswith('.json'):\n",
    "        datafile.to_json('./_{0}_{1}'.format(file_path,output_file_path), index=False)\n",
    "        \n",
    "sorted_directory_path = sorted(os.listdir(directory_path))\n",
    "for p in sorted_directory_path:\n",
    "    directory_stats(p)"
   ],
   "metadata": {
    "collapsed": false,
    "pycharm": {
     "name": "#%%\n",
     "is_executing": true
    }
   }
  },
  {
   "cell_type": "markdown",
   "source": [
    "## Create data with csv\n"
   ],
   "metadata": {
    "collapsed": false,
    "pycharm": {
     "name": "#%% md\n"
    }
   }
  },
  {
   "cell_type": "code",
   "execution_count": null,
   "outputs": [],
   "source": [
    "df = pd.read_csv(output_file_path)\n"
   ],
   "metadata": {
    "collapsed": false,
    "pycharm": {
     "name": "#%%\n",
     "is_executing": false
    }
   }
  },
  {
   "cell_type": "markdown",
   "source": [
    "## Show data"
   ],
   "metadata": {
    "collapsed": false
   }
  },
  {
   "cell_type": "code",
   "execution_count": null,
   "outputs": [],
   "source": [
    "pd.set_option('display.width', None)\n",
    "pd.set_option('display.max_colwidth', -1)\n",
    "df.head(10)"
   ],
   "metadata": {
    "collapsed": false,
    "pycharm": {
     "name": "#%%\n",
     "is_executing": false
    }
   }
  },
  {
   "cell_type": "markdown",
   "source": [
    "Filter files"
   ],
   "metadata": {
    "collapsed": false
   }
  },
  {
   "cell_type": "code",
   "execution_count": null,
   "outputs": [],
   "source": [
    "files_df = df[df.folder == False]\n",
    "files_df = files_df[['path','name','extension','size','atime', 'mtime', 'ctime']]\n",
    "files_df.head(10)"
   ],
   "metadata": {
    "collapsed": false,
    "pycharm": {
     "name": "#%%\n",
     "is_executing": false
    }
   }
  },
  {
   "cell_type": "markdown",
   "source": [
    "Count extensions"
   ],
   "metadata": {
    "collapsed": false,
    "pycharm": {
     "name": "#%% md\n"
    }
   }
  },
  {
   "cell_type": "code",
   "execution_count": null,
   "outputs": [],
   "source": [
    "files_df.extension.value_counts()"
   ],
   "metadata": {
    "collapsed": false,
    "pycharm": {
     "name": "#%%\n",
     "is_executing": false
    }
   }
  },
  {
   "cell_type": "markdown",
   "source": [
    "## Filter files extension txt"
   ],
   "metadata": {
    "collapsed": false
   }
  },
  {
   "cell_type": "code",
   "execution_count": null,
   "outputs": [],
   "source": [
    "files_extension_txt = files_df[files_df.extension == 'srt']\n",
    "files_extension_txt.head(50)"
   ],
   "metadata": {
    "collapsed": false,
    "pycharm": {
     "name": "#%%\n",
     "is_executing": false
    }
   }
  },
  {
   "cell_type": "markdown",
   "source": [
    "## Remove extension txt"
   ],
   "metadata": {
    "collapsed": false
   }
  },
  {
   "cell_type": "code",
   "execution_count": null,
   "outputs": [],
   "source": [
    "import os\n",
    "for index, value in files_extension_txt['path'].items():\n",
    "    print('Removed : '+ value)\n",
    "    #os.remove(value)\n",
    "    \n",
    "\n"
   ],
   "metadata": {
    "collapsed": false,
    "pycharm": {
     "name": "#%%\n",
     "is_executing": false
    }
   }
  }
 ],
 "metadata": {
  "kernelspec": {
   "display_name": "Python 3",
   "language": "python",
   "name": "python3"
  },
  "language_info": {
   "codemirror_mode": {
    "name": "ipython",
    "version": 2
   },
   "file_extension": ".py",
   "mimetype": "text/x-python",
   "name": "python",
   "nbconvert_exporter": "python",
   "pygments_lexer": "ipython2",
   "version": "2.7.6"
  },
  "pycharm": {
   "stem_cell": {
    "cell_type": "raw",
    "source": [],
    "metadata": {
     "collapsed": false
    }
   }
  }
 },
 "nbformat": 4,
 "nbformat_minor": 0
}